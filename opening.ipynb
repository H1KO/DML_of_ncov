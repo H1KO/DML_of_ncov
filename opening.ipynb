{
 "cells": [
  {
   "cell_type": "markdown",
   "metadata": {},
   "source": [
    "<h2>有关nCov疫情相关内容的数据分析练习</h2>\n",
    "\n",
    "本练习数据来自[2019新型冠状病毒疫情时间序列数据仓库](https://github.com/BlankerL/DXY-COVID-19-Data).\n",
    "\n",
    "借助通过该项目获得的csv格式数据,通过其中的地区数据[DXYArea.csv](https://github.com/BlankerL/DXY-COVID-19-Data/blob/master/csv/DXYArea.csv)的预处理和分析,获得全国和特定省份的病例随时间变化的可视化结果,并且通过地区数据尝试做出地区分析图."
   ]
  },
  {
   "cell_type": "code",
   "execution_count": null,
   "metadata": {},
   "outputs": [],
   "source": [
    "|"
   ]
  }
 ],
 "metadata": {
  "kernelspec": {
   "display_name": "Python 3",
   "language": "python",
   "name": "python3"
  },
  "language_info": {
   "codemirror_mode": {
    "name": "ipython",
    "version": 3
   },
   "file_extension": ".py",
   "mimetype": "text/x-python",
   "name": "python",
   "nbconvert_exporter": "python",
   "pygments_lexer": "ipython3",
   "version": "3.7.3"
  }
 },
 "nbformat": 4,
 "nbformat_minor": 2
}
